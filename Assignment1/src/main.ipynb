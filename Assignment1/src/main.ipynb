{
 "cells": [
  {
   "cell_type": "code",
   "execution_count": 1,
   "metadata": {
    "collapsed": true
   },
   "outputs": [],
   "source": [
    "import numpy as np"
   ]
  },
  {
   "cell_type": "code",
   "execution_count": 2,
   "metadata": {
    "collapsed": true
   },
   "outputs": [],
   "source": [
    "# file.aligned: g-e\n",
    "\n",
    "# 0-0 1-1 1-2 2-3\n",
    "# wiederaufnahme der sitzungsperiode\n",
    "# resumption of the session\n",
    "\n",
    "# 1. Phrase extraction algorithm\n",
    "\n",
    "def phrase_extraction(e, f, a):\n",
    "    english_phrases = np.array([])\n",
    "    foreign_phrases = np.array([])\n",
    "    english_freq = np.array([])\n",
    "    foreign_freq = np.array([])\n",
    "    combi_freq = np.array([])\n",
    "    \n",
    "    for i in len(e):\n",
    "\n",
    "        enlish_sentence = e[i].split()\n",
    "        foreign_sentence = f[i].split()\n",
    "        alignment = a[i].split()\n",
    "\n",
    "        for j in range(len(english_sentence)):\n",
    "            alignment = alignment[0].split('-')\n",
    "            english_index = alignment[0]\n",
    "            foreign_index = alignment[1]\n",
    "            \n"
   ]
  },
  {
   "cell_type": "code",
   "execution_count": 3,
   "metadata": {
    "collapsed": true
   },
   "outputs": [],
   "source": [
    "with open('../data/file.en') as textfile:\n",
    "    english_reader = textfile.readlines()\n",
    "    with open('../data/file.de') as textfile:\n",
    "        german_reader = textfile.readlines()\n",
    "        with open('../data/file.aligned') as textfile:\n",
    "            aligned_reader = textfile.readlines()\n",
    "\n",
    "            g, e, a = phrase_extraction(german_reader, english_reader, aligned_reader)"
   ]
  },
  {
   "cell_type": "code",
   "execution_count": 11,
   "metadata": {
    "collapsed": false
   },
   "outputs": [
    {
     "data": {
      "text/plain": [
       "['wiederaufnahme', 'der', 'sitzungsperiode']"
      ]
     },
     "execution_count": 11,
     "metadata": {},
     "output_type": "execute_result"
    }
   ],
   "source": [
    "g"
   ]
  },
  {
   "cell_type": "code",
   "execution_count": 12,
   "metadata": {
    "collapsed": false
   },
   "outputs": [
    {
     "data": {
      "text/plain": [
       "['resumption', 'of', 'the', 'session']"
      ]
     },
     "execution_count": 12,
     "metadata": {},
     "output_type": "execute_result"
    }
   ],
   "source": [
    "e"
   ]
  },
  {
   "cell_type": "code",
   "execution_count": 31,
   "metadata": {
    "collapsed": false
   },
   "outputs": [],
   "source": [
    "a = ['0-0', '1-1', '1-2', '2-3']\n",
    "    "
   ]
  },
  {
   "cell_type": "code",
   "execution_count": 34,
   "metadata": {
    "collapsed": false
   },
   "outputs": [],
   "source": [
    "a = [x.split('-') for x in a]\n"
   ]
  },
  {
   "cell_type": "code",
   "execution_count": 36,
   "metadata": {
    "collapsed": false
   },
   "outputs": [
    {
     "data": {
      "text/plain": [
       "[['0', '0'], ['1', '1'], ['1', '2'], ['2', '3']]"
      ]
     },
     "execution_count": 36,
     "metadata": {},
     "output_type": "execute_result"
    }
   ],
   "source": [
    "a"
   ]
  },
  {
   "cell_type": "code",
   "execution_count": 21,
   "metadata": {
    "collapsed": false
   },
   "outputs": [],
   "source": [
    "english_phrases = np.array([])\n",
    "foreign_phrases = np.array([])\n",
    "english_freq = np.array([])\n",
    "foreign_freq = np.array([])\n",
    "combi_freq = np.array([])"
   ]
  },
  {
   "cell_type": "code",
   "execution_count": 37,
   "metadata": {
    "collapsed": false
   },
   "outputs": [
    {
     "name": "stdout",
     "output_type": "stream",
     "text": [
      "0 0 wiederaufnahme resumption\n",
      "1 1 der of\n",
      "1 2 der the\n",
      "2 3 sitzungsperiode session\n"
     ]
    }
   ],
   "source": [
    "for j in range(len(a)):\n",
    "    german_phrase = []\n",
    "    german_index = int(a[j][0])\n",
    "    english_index = int(a[j][1])\n",
    "    \n",
    "    for alignment in a:\n",
    "        if alignment[0] == german_index:\n",
    "            german_phrase.append()\n",
    "    g_phrase = g[german_index]\n",
    "    e_phrase = e[english_index]\n",
    "    print(german_index, english_index, g_phrase, e_phrase)"
   ]
  },
  {
   "cell_type": "code",
   "execution_count": null,
   "metadata": {
    "collapsed": true
   },
   "outputs": [],
   "source": []
  }
 ],
 "metadata": {
  "anaconda-cloud": {},
  "kernelspec": {
   "display_name": "Python [py3k]",
   "language": "python",
   "name": "Python [py3k]"
  },
  "language_info": {
   "codemirror_mode": {
    "name": "ipython",
    "version": 3
   },
   "file_extension": ".py",
   "mimetype": "text/x-python",
   "name": "python",
   "nbconvert_exporter": "python",
   "pygments_lexer": "ipython3",
   "version": "3.5.2"
  }
 },
 "nbformat": 4,
 "nbformat_minor": 0
}
